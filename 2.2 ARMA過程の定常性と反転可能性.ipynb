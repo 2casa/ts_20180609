{
 "cells": [
  {
   "cell_type": "markdown",
   "metadata": {
    "slideshow": {
     "slide_type": "slide"
    }
   },
   "source": [
    "# 2.2 ARMA過程の定常性と反転可能性\n",
    "\n",
    "* MA過程は常に定常だが、AR過程は常に定常とは限らない。\n",
    "* MA過程は同一の期待値と自己相関構造を持つ異なるMA過程が複数存在する問題がある。MAモデルを選ぶ基準のひとつが「反転可能性」\n",
    "\n",
    "ARMA過程の定常条件と反転可能条件について本節では述べる。\n"
   ]
  },
  {
   "cell_type": "markdown",
   "metadata": {
    "slideshow": {
     "slide_type": "slide"
    }
   },
   "source": [
    "### 2.2.1 AR過程の定常性\n",
    "\n",
    "AR過程の定常性は、差分方程式の理論と密接に関連している。AR過程と同一の係数をもつ差分方程式が安定的になる場合に、AR過程は定常となる。\n",
    "\n",
    "AR(p)の定常条件は、\n",
    "\n",
    "$$ 1 - \\phi_1z - \\dots - \\phi_pz^p = 0 $$\n",
    "\n",
    "の全ての解の絶対値が1より大きいとき、AR過程は定常となる。この式を「AR特性方程式 (AR characteristic equation)」とよび、左辺の多項式を「AR多項式（AR polynomial）」と呼ぶ。\n",
    "\n",
    "【メモ】バックシフトオペレータを使ったAR(2)過程の表現 $(1 - \\phi_{1}B - \\phi_{2}B^2)y_{t} = c + \\epsilon_{t}$は、「AR特性方程式」を計算していた、ということ。バックシフトオペレータだいじ。"
   ]
  },
  {
   "cell_type": "markdown",
   "metadata": {
    "slideshow": {
     "slide_type": "slide"
    }
   },
   "source": [
    "### 例2.4(AR(1)過程の定常条件) \n",
    "* 計算手順は、教科書にかかれた手順で十分なので省略。AR(1)の定常条件は$|\\phi_1| < 1$である、というのもここまで言及してきた通りである。\n",
    "\n",
    "### 例2.5(AR(2)過程の定常条件の一般形）\n",
    "\n",
    "*【参照】[ここ](http://www.geocities.jp/kanatanit/lecture.pdf)\n",
    "* 前述の「BackShift演算子を使ったAR過程の表現」の「$\\lambda_1,と\\lambda_2$ の性質」のスライドの結果と合わせて読む。\n",
    "  \n",
    "### AR過程をMA($\\infty$)過程に書き換える\n",
    "\n",
    "* 前述の「2.1.2 AR過程」の「AR(1) と MA( $\\infty$ ) 教科書p.36 - 37 定数項あり」のスライドで既に示した。\n",
    "\n"
   ]
  },
  {
   "cell_type": "markdown",
   "metadata": {
    "slideshow": {
     "slide_type": "slide"
    }
   },
   "source": [
    "### 2.2.2 MA過程の反転可能性\n",
    "\n",
    "AR(1)過程である、$y_{t} = \\epsilon_{t} + \\theta_{1}\\epsilon_{t-1} , \\hspace{5pt} \\epsilon_{t} \\sim W.N.(\\sigma^{2}) $の期待値と自己共分散は、「2.1.1 MA過程」で既に計算したとおり、\n",
    "\n",
    "$$\n",
    "E[y_t] = 0 (\\mbox{定数項なし}) \\\\\n",
    "\\gamma_k =\n",
    "\\begin{cases}\n",
    "(1 + \\theta^2_1)\\sigma^2 & \\mbox{(k=0)分散} \\\\\n",
    "\\theta_1 \\sigma^2 & \\mbox{(k=1)1次の自己共分散} \\\\\n",
    "0 & \\mbox{(k>1) 2次以降は全て0}\n",
    "\\end{cases}\n",
    "$$\n",
    "\n",
    "\n",
    "である。次に、$y_{t} = \\epsilon_{t} + \\frac{1}{\\theta_{1}}\\epsilon_{t-1} , \\hspace{5pt} \\epsilon_{t} \\sim W.N.(\\theta_1^2\\sigma^{2}) $　の期待値と自己共分散を計算する。\n",
    "\n",
    "* $E[y_t] = 0$ は明らか\n",
    "* $\\gamma_0 = E[( \\epsilon_{t} + \\frac{1}{\\theta_{1}}\\epsilon_{t-1})^2] = E[\\epsilon_{t}^2]+ \\frac{1}{\\theta^2}E[\\epsilon_{t-1}^2] \n",
    "= \\theta^2\\sigma^{2} + \\frac{1}{\\theta^2}\\theta^2\\sigma^{2}=(1 + \\theta^2_1)\\sigma^2 $ \n",
    "* $\\gamma_1 = E[( \\epsilon_{t} + \\frac{1}{\\theta_{1}}\\epsilon_{t-1})( \\epsilon_{t-1} + \\frac{1}{\\theta_{1}}\\epsilon_{t-2})]\n",
    "= E[(\\frac{1}{\\theta_{1}}\\epsilon_{t-1})( \\epsilon_{t-1})] = \\frac{1}{\\theta_{1}}E[\\epsilon_{t-1}^2]\n",
    "= \\frac{1}{\\theta_{1}}\\theta_1^2\\sigma^{2} = \\theta_1 \\sigma^2 $ \n",
    "* $\\gamma_2 =0$ は明らか（重なる部分が存在しなくなるため）。\n",
    "\n",
    "従って、2つのMA(1)は、同じ期待値と自己相関関数を持つことが示される。"
   ]
  },
  {
   "cell_type": "markdown",
   "metadata": {
    "slideshow": {
     "slide_type": "slide"
    }
   },
   "source": [
    "### MA過程の反転可能性（invertibility）\n",
    "\n",
    "-----\n",
    "\n",
    "【定義】(MA過程の反転可能性)\n",
    "\n",
    "MA過程が$AR(\\infty)$過程に書き直せるとき、MA過程は「反転可能(invertible)」といわれる。\n",
    "\n",
    "-----\n",
    "\n",
    "* MA過程が反転可能のとき、かく乱項$\\epsilon_{t}$は過去の$y_{t}$の関数として表現でき、さらに過去の$y$を用いて$y_{t}$を予測したときの予測誤差と解釈できる。\n",
    "  * AR過程に変換しているので、当たり前といえば当たり前な気がする。\n",
    "* 反転可能表現に伴う$\\epsilon_{t}$を「本源的なかく乱項（fundamental innovation）」と呼ぶこともある。\n",
    "* この「本源的なかく乱項」を使ったMA過程を用いると、パラメータの推定や予測を自然な形で行うことができるので、同一の期待値と自己相関構造を持つ複数のMA過程のうち、反転可能な過程を選択するほうが望ましい。\n",
    "  * というのも、もともとMA過程の問題点として「$MA$はホワイトノイズの線形和で表現されるため、モデルの解釈が難しい」という点があったが、「過去の$y$を用いて$y_{t}$を予測したときの予測誤差と解釈」することができ、問題点を一つ克服したことになる。\n",
    "\n",
    "\n"
   ]
  },
  {
   "cell_type": "markdown",
   "metadata": {
    "slideshow": {
     "slide_type": "slide"
    }
   },
   "source": [
    "### MAモデルの反転可能性条件\n",
    "【参考文献】\n",
    "*  田中孝文「Rによる時系列分析入門」の「16.7 MAモデルの反転可能条件」\n",
    "\n",
    "AR過程での議論同様、MA過程においてもバックシフト演算子を用いた表現を用いることで「MA特性方程式」を導くことができることを確かめる。MA(q)は、\n",
    "$$\n",
    "y_{t} = \\mu + \\epsilon_{t} + \\theta_{1}\\epsilon_{t-1} + \\theta_{2}\\epsilon_{t-2} + \\dots + \\theta_{q}\\epsilon_{t-q}\\\\\n",
    " = \\mu + \\epsilon_{t} + \\theta_{1}B\\epsilon_{t} + \\theta_{2}B^2\\epsilon_{t} + \\dots + \\theta_{q}B^q\\epsilon_{t}\\\\\n",
    "y_{t}- \\mu = (1 + \\theta_{1}B + \\theta_{2}B^2 + \\dots + \\theta_{q}B^q)\\epsilon_{t}\n",
    "$$\n",
    "\n",
    "となり、AR過程同様に「MA特性方程式」を導くことができる。AR過程と符合が逆になっていること以外、算出方法は同じである。"
   ]
  },
  {
   "cell_type": "markdown",
   "metadata": {
    "slideshow": {
     "slide_type": "slide"
    }
   },
   "source": [
    "### 例2.6 MA(1)過程の反転可能性条件\n",
    "\n",
    "先ほど求めた「$MA(q)$特性方程式」より、$MA(1)$においては、$1+\\theta z = 0$となるので、反転可能条件は$|z| = |\\theta^{-1}|>1$つまり、$|\\theta|<1$で与えられる。MA(1)を$\\epsilon_{t}$の式へと書き改め、スライド「AR(1)の期待値（つづき）」の計算と同様、逐次代入をしていくと、\n",
    "\n",
    "$$\n",
    "\\epsilon_{t} = -\\theta\\epsilon_{t-1} + y{t} \\\\\n",
    " = (-\\theta)^m\\epsilon_{t-m} + \\sum_{k=0}^{m-1}(-\\theta)^ky_{t-k} \\\\\n",
    " \\to \\sum_{k=0}^{\\infty}(-\\theta)^ky_{t-k}\n",
    "$$\n",
    "\n",
    "ただし、$|\\theta|<1$（反転可能条件）より、$m \\to \\infty$のとき、$(-\\theta)^m\\epsilon_{t-m} \\to 0$が成立することに注意。\n",
    "\n",
    "シグマの中から$k=0$の部分だけ取り出して移項することで、\n",
    "\n",
    "$$\n",
    "y_{t} = - \\sum_{k=1}^{\\infty}(-\\theta)^ky_{t-k} + \\epsilon_{t} \\sim AR(\\infty)\n",
    "$$\n",
    "\n",
    "を得る。\n"
   ]
  },
  {
   "cell_type": "markdown",
   "metadata": {
    "slideshow": {
     "slide_type": "slide"
    }
   },
   "source": [
    "### 2.2.3 ARMA過程の定常・反転可能性（最後のまとめ）\n",
    "\n",
    "* ARMA過程の定常性は、MA過程が常に定常であることより、AR過程の部分のみを考えればよい。\n",
    "* ARMA過程は、AR過程とMA過程の和としてあらわすことができるので、AR過程が定常であれば、「定常過程＋定常過程＝定常過程」となる。\n",
    "* ARMA過程が定常であるためには、$MA(\\infty)$過程で書き直すことができればよいが、そのためには、AR過程の部分をMA過程に書き直すことができればよく、やはりAR過程の部分が定常であれば、ARMA過程は定常過程となる。\n"
   ]
  },
  {
   "cell_type": "markdown",
   "metadata": {
    "slideshow": {
     "slide_type": "slide"
    }
   },
   "source": [
    "# おつかれさまでした！"
   ]
  }
 ],
 "metadata": {
  "celltoolbar": "Slideshow",
  "kernelspec": {
   "display_name": "Python 3",
   "language": "python",
   "name": "python3"
  },
  "language_info": {
   "codemirror_mode": {
    "name": "ipython",
    "version": 3
   },
   "file_extension": ".py",
   "mimetype": "text/x-python",
   "name": "python",
   "nbconvert_exporter": "python",
   "pygments_lexer": "ipython3",
   "version": "3.6.3"
  }
 },
 "nbformat": 4,
 "nbformat_minor": 2
}
