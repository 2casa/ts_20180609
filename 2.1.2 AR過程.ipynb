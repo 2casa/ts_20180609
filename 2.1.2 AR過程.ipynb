{
 "cells": [
  {
   "cell_type": "markdown",
   "metadata": {
    "slideshow": {
     "slide_type": "slide"
    }
   },
   "source": [
    "# 2.1.1 AR 過程　～ AutoRegressive Process～\n",
    "\n",
    "過程が自身の過去に回帰された形で表現される。\n",
    "\n",
    "【定義】１次AR過程とは、\n",
    "\n",
    "$$ y_{t} = c + \\phi_{1} y_{t-1} + \\epsilon_{t} , \\hspace{15pt} \\epsilon_{t} \\sim W.N.(\\sigma^{2}) $$\n",
    "\n",
    "で定義され、$y_{t}$がAR(1)に従うことは、$y_{t} \\sim AR(1)$ と表現する。\n",
    "\n",
    "$c$ および $\\phi_{1}$は定数（パラメータ）である。\n"
   ]
  },
  {
   "cell_type": "markdown",
   "metadata": {
    "slideshow": {
     "slide_type": "slide"
    }
   },
   "source": [
    "### AR(1)過程の性質\n",
    "\n",
    "* MA過程と同様に、AR過程の確率的変動はかく乱項であるホワイトノイズ$\\epsilon_{t}$によって決まる\n",
    "* 初期値問題 $y_{0}$ をどのように決めるのか？（ $y_{-1}$ は存在しない）\n",
    "  * yの条件なし分布が定まっている場合は、その分布に従う確率変数とするのが一般的\n",
    "  * 分布が定まっていない場合は、何らかの定数とすることが多い\n",
    "  * 分布が定常であれば、初期値の影響は減衰していくので大きな問題にはならない\n",
    "\n",
    "  "
   ]
  },
  {
   "cell_type": "markdown",
   "metadata": {
    "slideshow": {
     "slide_type": "slide"
    }
   },
   "source": [
    "## 例2.2 AR(1)の具体例の計算\n",
    "\n",
    "python で計算してみました。"
   ]
  },
  {
   "cell_type": "code",
   "execution_count": 1,
   "metadata": {
    "slideshow": {
     "slide_type": "slide"
    }
   },
   "outputs": [
    {
     "data": {
      "text/plain": [
       "array([-1.1       ,  1.35      ,  1.475     ,  1.2375    ,  1.91875   ,\n",
       "        1.559375  ,  2.5796875 ,  4.48984375,  2.64492188,  3.12246094])"
      ]
     },
     "execution_count": 1,
     "metadata": {},
     "output_type": "execute_result"
    }
   ],
   "source": [
    "%matplotlib inline\n",
    "\n",
    "import numpy as np\n",
    "import matplotlib.pyplot as plt\n",
    "from statsmodels.tsa import stattools\n",
    "\n",
    "c = 1\n",
    "phi = 0.5\n",
    "epsilon = np.array([0,-2.1,0.9,-0.2,-0.5,0.3,-0.4,0.8,2.2,-0.6,0.8]) # 先頭の0に注意,,,\n",
    "y = np.zeros(len(epsilon)) # 初期値ゼロ\n",
    "\n",
    "for t in range(1, len(epsilon)):\n",
    "    y[t] = c + phi * y[t-1] + epsilon[t] # epsilonによってyが決定する\n",
    "\n",
    "y[1:]"
   ]
  },
  {
   "cell_type": "code",
   "execution_count": 2,
   "metadata": {
    "slideshow": {
     "slide_type": "slide"
    }
   },
   "outputs": [
    {
     "data": {
      "image/png": "[encoded data removed]",
      "text/plain": [
       "<matplotlib.figure.Figure at 0x112ec4630>"
      ]
     },
     "metadata": {},
     "output_type": "display_data"
    }
   ],
   "source": [
    "const = 2 # parameter\n",
    "phi = 0.8, 1, 1.1 # parameter\n",
    "sample = 101 # sample\n",
    "np.random.seed(seed=20180609) #seed\n",
    "mean , variance = 0, 1 # normdist params\n",
    "plt.figure(figsize=(15,3)) # graph size\n",
    "\n",
    "epsilon = np.array(np.random.normal(mean, variance, sample)) # 正規ホワイトノイズ\n",
    "\n",
    "def create_ar(c, p, e):\n",
    "    y = np.zeros(len(e))    \n",
    "    for t in range(1, len(e)):\n",
    "        y[t] = c + p * y[t-1] + e[t] # epsilonによってyが決定する\n",
    "    return y\n",
    "\n",
    "for i in range(0,len(phi)):\n",
    "    plt.subplot(1,3,i+1)\n",
    "    y = create_ar(const,phi[i],epsilon)\n",
    "    plt.plot(y[1:])\n"
   ]
  },
  {
   "cell_type": "markdown",
   "metadata": {
    "slideshow": {
     "slide_type": "slide"
    }
   },
   "source": [
    "### AR過程の定常性\n",
    "\n",
    "* AR過程はMA過程と異なり、モデルの定常性はパラメータに依存する(MAはパラメータに関係なく定常)\n",
    "* AR(1) の場合、$|\\phi| < 1$のとき過程は定常となる。先ほどの図の一番左（$\\phi = 0.8$）。\n",
    "* $\\phi = 1$ を「単位根」過程と呼ぶ。⇒５章で取り扱う\n",
    "* $\\phi > 1$ 過程が指数的に上昇。「爆発的(explosive)」と呼ぶ。\n",
    "\n",
    "本書では定常過程を取り扱うので、$|\\phi| < 1$を仮定して、AR(1)の特徴を見ていく。"
   ]
  },
  {
   "cell_type": "markdown",
   "metadata": {
    "slideshow": {
     "slide_type": "slide"
    }
   },
   "source": [
    "### AR(1)の期待値\n",
    "\n",
    "【メモ】この期待値の算出方法は教科書の方法と異なるが、p.36-37の証明になる。\n",
    "\n",
    "AR(1)の期待値 $E[y_{t}]$を計算する。まず、$y{t}$および、その１期前の$y_{t-1}$をAR過程の定義に従って書き出すと、\n",
    "\n",
    "$$\n",
    "y_{t}   = c + \\phi_{1} y_{t-1} + \\epsilon_{t} \\\\\n",
    "y_{t-1} = c + \\phi_{1} y_{t-2} + \\epsilon_{t-1} \\\\\n",
    "$$\n",
    "\n",
    "となる。上の式の$y_{t-1}$に対して、下の式を代入すると、\n",
    "\n",
    "$$\n",
    "y_{t} = c + \\phi_{1} (c + \\phi_{1} y_{t-2} + \\epsilon_{t-1}) + \\epsilon_{t} \\\\\n",
    "y_{t} = (1 + \\phi_{1})c + \\phi^2_{1}y_{t-2} + (\\epsilon_{t} + \\phi_{1}\\epsilon_{t-1})\n",
    "$$"
   ]
  },
  {
   "cell_type": "markdown",
   "metadata": {
    "slideshow": {
     "slide_type": "slide"
    }
   },
   "source": [
    "### AR(1)の期待値（つづき）\n",
    "\n",
    "$$\n",
    "y_{t} = (1 + \\phi_{1})c + \\phi^2_{1}y_{t-2} + (\\epsilon_{t} + \\phi_{1}\\epsilon_{t-1})\n",
    "$$\n",
    "\n",
    "ここで、先ほどと同様に$y_{t-2}, y_{t-3}, \\dots$を逐次代入していくと、\n",
    "\n",
    "* $y_{t-2} = c + \\phi_{1} y_{t-3} + \\epsilon_{t-2}$を代入\n",
    "  * $ y_{t} = (1 + \\phi_{1})c + \\phi_{1}^2(c + \\phi_{1} y_{t-3} + \\epsilon_{t-2}) + (\\epsilon_{t} + \\phi_{1}\\epsilon_{t-1})$\n",
    "  * $ y_{t} = (1 + \\phi_{1} + \\phi_{1}^2)c + \\phi^3_{1}y_{t-3} + (\\epsilon_{t} + \\phi_{1}\\epsilon_{t-1}+ \\phi_{1}^2\\epsilon_{t-2})$\n",
    "\n",
    "\n",
    "* $y_{t-3} = c + \\phi_{1} y_{t-4} + \\epsilon_{t-3}$を代入\n",
    "  * $ y_{t} = (1 + \\phi_{1} + \\phi_{1}^2)c + \\phi^3_{1}(c + \\phi_{1} y_{t-4} + \\epsilon_{t-3}) + (\\epsilon_{t} + \\phi_{1}\\epsilon_{t-1}+ \\phi_{1}^2\\epsilon_{t-2}) $\n",
    "  * $ y_{t} =  (1 + \\phi_{1} + \\phi_{1}^2 +\\phi_{1}^3)c \n",
    "  + \\phi^4_{1}y_{t-4} + (\\epsilon_{t} + \\phi_{1}\\epsilon_{t-1}+ \\phi_{1}^2\\epsilon_{t-2}+ \\phi_{1}^3\\epsilon_{t-3}) $\n",
    "\n"
   ]
  },
  {
   "cell_type": "markdown",
   "metadata": {
    "slideshow": {
     "slide_type": "slide"
    }
   },
   "source": [
    "### AR(1)の期待値（つづき）\n",
    "\n",
    "先ほどの処理をN回繰り返すと、\n",
    "\n",
    "$$\n",
    "y_{t} =  (1 + \\phi_{1} + \\phi_{1}^2 + \\phi_{1}^3 + \\dots + \\phi_{1}^N)c\n",
    "  + \\phi^{N+1}_{1}y_{t-N+1} \n",
    "  + (\\epsilon_{t} + \\phi_{1}\\epsilon_{t-1}+ \\phi_{1}^2\\epsilon_{t-2}+ \\phi_{1}^3\\epsilon_{t-3} + \\dots + \\phi_{1}^N\\epsilon_{t-N})\n",
    "$$\n",
    "\n",
    "まとめると、\n",
    "\n",
    "$$\n",
    "y_{t} = (\\sum_{i=0}^{N}\\phi_{1}^{i})c + \\phi^{N+1}_{1}y_{t-N+1} + (\\sum_{i=0}^{N}\\phi_{1}^{i}\\epsilon_{t-i})\n",
    "$$\n",
    "\n",
    "$N \\to \\infty$とすると、$|\\phi| < 1$の仮定より、第１項は無限等比級数の和 $\\frac{1}{1-\\phi}c$、第２項は0に収束するので、\n",
    "\n",
    "$$\n",
    "y_{t} = \\frac{1}{1-\\phi}c + (\\sum_{i=0}^{\\infty}\\phi_{1}^{i}\\epsilon_{t-i}) \\\\\n",
    "E[y_{t}] = E[\\frac{1}{1-\\phi}c] + \\sum_{i=0}^{\\infty}\\phi_{1}^{i}E[\\epsilon_{t-i}] \\\\\n",
    "E[y_{t}] = \\frac{c}{1-\\phi}\n",
    "$$\n",
    "\n"
   ]
  },
  {
   "cell_type": "code",
   "execution_count": 3,
   "metadata": {
    "slideshow": {
     "slide_type": "slide"
    }
   },
   "outputs": [
    {
     "data": {
      "text/plain": [
       "[<matplotlib.lines.Line2D at 0x115ee35f8>]"
      ]
     },
     "execution_count": 3,
     "metadata": {},
     "output_type": "execute_result"
    },
    {
     "data": {
      "image/png": "[encoded data removed]",
      "text/plain": [
       "<matplotlib.figure.Figure at 0x10e0aec50>"
      ]
     },
     "metadata": {},
     "output_type": "display_data"
    }
   ],
   "source": [
    "# おまけ\n",
    "phi = 0.8\n",
    "iteration = 100\n",
    "y = np.zeros(iteration)\n",
    "z = np.zeros(iteration)\n",
    "\n",
    "plt.figure(figsize=(15,3)) # graph size\n",
    "plt.subplot(1,2,1)\n",
    "# 第２項がゼロに収束していく様\n",
    "for i in range(0,iteration):\n",
    "    y[i] = phi ** i\n",
    "plt.plot(y)\n",
    "# 無限等比級数の和の可視化\n",
    "plt.subplot(1,2,2)\n",
    "z = np.cumsum(y)\n",
    "plt.plot(z)"
   ]
  },
  {
   "cell_type": "markdown",
   "metadata": {
    "slideshow": {
     "slide_type": "slide"
    }
   },
   "source": [
    "### AR(1) と MA( $\\infty$ ) 教科書p.36 - 37 定数項あり\n",
    "$|\\phi| < 1$ であれば、\n",
    "\n",
    "$$\n",
    "y_{t} = \\frac{1}{1-\\phi}c + (\\sum_{i=0}^{\\infty}\\phi_{1}^{i}\\epsilon_{t-i}) \\\\\n",
    "$$\n",
    "\n",
    "は、\n",
    "\n",
    "$$\n",
    "y_{t} = \\mu + \\epsilon_{t}  + \\theta_1\\epsilon_{t-1} + \\theta_2\\epsilon_{t-2} + \\dots \n",
    "$$\n",
    "\n",
    "書き直すことができる。これは$MA(\\infty)$の定義と等しい。\n",
    "\n",
    "逆に言えば、$|\\phi| < 1$ でなければ、AR過程をMA過程で表現することはできない。\n"
   ]
  },
  {
   "cell_type": "markdown",
   "metadata": {
    "slideshow": {
     "slide_type": "slide"
    }
   },
   "source": [
    "### AR(1)の分散\n",
    "\n",
    "AR(1)の分散を計算する。期待値の計算で得た結果を用いると、\n",
    "\n",
    "$$\n",
    "V[y_{t}] = E[(y_{t} - E(y_{t})^2] = E[(\\frac{1}{1-\\phi}c + (\\sum_{i=0}^{\\infty}\\phi_{1}^{i}\\epsilon_{t-i}) - \\frac{1}{1-\\phi}c)^2] \\\\\n",
    "=  E[(\\sum_{i=0}^{\\infty}\\phi_{1}^{i}\\epsilon_{t-i})^2]\n",
    "$$\n",
    "\n",
    "とかける。シグマを展開すると、\n",
    "\n",
    "$$\n",
    "V[y_{t}] = E[(\\epsilon_{t} + \\phi_{1}\\epsilon_{t-1} + \\phi_{1}^2\\epsilon_{t-2} + \\dots)(\\epsilon_{t} + \\phi_{1}\\epsilon_{t-1} + \\phi_{1}^2\\epsilon_{t-2} + \\dots) ]\n",
    "$$\n",
    "\n",
    "W.N.の定義より、$E[\\epsilon_{i}\\epsilon_{j}(i \\ne j)] = 0$ になるので、$\\epsilon_{i}^2$となるような項だけ抜き出すと、\n",
    "\n",
    "$$\n",
    "= E[ \\epsilon_{t}^2 + \\phi_{1}^2\\epsilon_{t-1}^2 + \\phi_{1}^4\\epsilon_{t-1}^2 + \\phi_{1}^6\\epsilon_{t-1}^2 + \\dots]\n",
    "$$\n"
   ]
  },
  {
   "cell_type": "markdown",
   "metadata": {
    "slideshow": {
     "slide_type": "slide"
    }
   },
   "source": [
    "### AR(1)の分散(つづき)\n",
    "\n",
    "項ごとに期待値計算をすると、\n",
    "\n",
    "$$\n",
    "V[y_{t}] = E[ \\epsilon_{t}^2] + E[\\phi_{1}^2\\epsilon_{t-1}^2] + E[\\phi_{1}^4\\epsilon_{t-1}^2] + E[\\phi_{1}^6\\epsilon_{t-1}^2] + \\dots \\\\\n",
    "= \\sigma^2  + \\phi_{1}^{2}\\sigma^{2} + \\phi_{1}^{4}\\sigma^{2} + \\phi_{1}^{6}\\sigma^{2} + \\dots \\\\\n",
    "= (1  + \\phi_{1}^{2} + \\phi_{1}^{4} + \\phi_{1}^{6} + \\dots)\\sigma^{2}\n",
    "$$\n",
    "\n",
    "$|\\phi_1| < 1$より無限等比級数の和の公式が使えるので、\n",
    "\n",
    "$$\n",
    "V[y_{t}] = (\\frac{1}{1-\\phi_{1}^2})\\sigma^2 =  (\\frac{\\sigma^2}{1-\\phi_{1}^2}) \n",
    "$$"
   ]
  },
  {
   "cell_type": "markdown",
   "metadata": {
    "slideshow": {
     "slide_type": "slide"
    }
   },
   "source": [
    "### AR(1) (k=1)の自己共分散\n",
    "\n",
    "k=1(1期前との場合)の場合をまず計算する。期待値の計算で得た結果を用いると、\n",
    "\n",
    "$$\n",
    "\\gamma_{1} = Cov(y_{t},y_{t-1}) = E[(y_{t}-E[y_{t}])((y_{t-1}-E[y_{t-1}])] \\\\\n",
    "= E[(\\sum_{i=0}^{\\infty}\\phi_{1}^{i}\\epsilon_{t-i})(\\sum_{i=0}^{\\infty}\\phi_{1}^{i}\\epsilon_{t-1-i})]\n",
    "$$\n",
    "\n",
    "$$\n",
    "\\gamma_{1} = E[(\\epsilon_{t} + \\phi_{1}\\epsilon_{t-1} + \\phi_{1}^2\\epsilon_{t-2} + \\dots)(\\epsilon_{t-1} + \\phi_{1}\\epsilon_{t-2} + \\phi_{1}^2\\epsilon_{t-3} + \\dots) ]\n",
    "$$\n",
    "\n",
    "分散の計算のときと同様に、$\\epsilon_{i}^2$ となるような項だけを抜き出す（＝その他の項は全てゼロになってしまうので不要）と、\n",
    "\n",
    "$$\n",
    "= E[ \\phi_{1}\\epsilon_{t}^2 + \\phi_{1}^3\\epsilon_{t-1}^2 + \\phi_{1}^5\\epsilon_{t-1}^2 + \\phi_{1}^7\\epsilon_{t-1}^2 + \\dots]\n",
    "$$"
   ]
  },
  {
   "cell_type": "markdown",
   "metadata": {
    "slideshow": {
     "slide_type": "slide"
    }
   },
   "source": [
    "### AR(1) (k=1)の自己共分散（つづき）\n",
    "項ごとに期待値計算をすると、\n",
    "\n",
    "$$\n",
    "\\gamma_{1} = E[\\phi_{1}\\epsilon_{t}^2] + E[\\phi_{1}^3\\epsilon_{t-1}^2] + E[\\phi_{1}^5\\epsilon_{t-1}^2] + E[\\phi_{1}^7 \\epsilon_{t-1}^2] + \\dots \\\\\n",
    "= \\phi_{1}\\sigma^2  + \\phi_{1}^{3}\\sigma^{2} + \\phi_{1}^{5}\\sigma^{2} + \\phi_{1}^{7}\\sigma^{2} + \\dots \\\\\n",
    "= \\phi_{1}(1  + \\phi_{1}^{2} + \\phi_{1}^{4} + \\phi_{1}^{6} + \\dots)\\sigma^{2}\n",
    "$$\n",
    "\n",
    "先ほどの分散の計算結果を用いて、\n",
    "\n",
    "$$\n",
    "\\gamma_{1} = \\phi_1 \\gamma_0\n",
    "$$\n"
   ]
  },
  {
   "cell_type": "markdown",
   "metadata": {
    "slideshow": {
     "slide_type": "slide"
    }
   },
   "source": [
    "### AR(1) (k=2)の自己共分散\n",
    "\n",
    "次に、k=2の場合を計算する。k=1の時と同様に、\n",
    "\n",
    "$$\n",
    "\\gamma_{2} = Cov(y_{t},y_{t-2}) = E[(y_{t}-E[y_{t}])((y_{t-1}-E[y_{t-2}])] \\\\\n",
    "= E[(\\sum_{i=0}^{\\infty}\\phi_{1}^{i}\\epsilon_{t-i})(\\sum_{i=0}^{\\infty}\\phi_{1}^{i}\\epsilon_{t-2-i})]\n",
    "$$\n",
    "\n",
    "$$\n",
    "\\gamma_{2} = E[(\\epsilon_{t} + \\phi_{1}\\epsilon_{t-1} + \\phi_{1}^2\\epsilon_{t-2} + \\dots)(\\epsilon_{t-2} + \\phi_{1}\\epsilon_{t-3} + \\phi_{1}^2\\epsilon_{t-4} + \\dots) ]\\\\\n",
    "= \\phi_{1}^{2}(1  + \\phi_{1}^{2} + \\phi_{1}^{4} + \\phi_{1}^{6} + \\dots)\\sigma^{2}\n",
    "$$\n",
    "\n",
    "先ほどの分散の計算結果$\\gamma_{1} = \\phi_1 \\gamma_0$を用いて、\n",
    "\n",
    "$$\n",
    "\\gamma_{2} = \\phi_1^2 \\gamma_0 =  \\phi_1 \\gamma_1\n",
    "$$\n",
    "\n"
   ]
  },
  {
   "cell_type": "markdown",
   "metadata": {
    "slideshow": {
     "slide_type": "slide"
    }
   },
   "source": [
    "### AR(1) 自己共分散(一般形)\n",
    "\n",
    "k=1,2とおいて導いた結果からも想像がつくが、期待値計算内のひとつめのカッコ内の多項式においてk-1次までの項はふたつめのカッコ内に存在しない項であるため、期待値計算上無視できて、\n",
    "\n",
    "$$\n",
    "\\gamma_{k} = E[(\\epsilon_{t} + \\dots + \\phi_{1}^{k}\\epsilon_{t-k} + \\phi_{1}^{k+1}\\epsilon_{t-k}\\dots)\n",
    "(\\epsilon_{t-k} + \\phi_{1}\\epsilon_{t-k-1} + \\phi_{1}^2\\epsilon_{t-k-2} + \\dots) ]\\\\\n",
    "= \\phi_{1}^{k}(1  + \\phi_{1}^{2} + \\phi_{1}^{4} + \\phi_{1}^{6} + \\dots)\\sigma^{2}\n",
    "$$\n",
    "よって\n",
    "\n",
    "$$\n",
    "\\gamma_{k} = \\phi_1^k \\gamma_0 = \\phi_1^{k-1}\\phi_1 \\gamma_0 = \\phi_1^{k-1}\\gamma_1 =  \\phi_1^{k-2}\\phi_1 \\gamma_1 = \\phi_1^{k-2}\\gamma_2 = \\dots \\\\\n",
    "\\gamma_{k} = \\phi_{1}\\gamma_{k-1}\n",
    "$$"
   ]
  },
  {
   "cell_type": "markdown",
   "metadata": {},
   "source": [
    "### AR(1) 自己共分散(一般形) からのユール・ウォーカー方程式\n",
    "\n",
    "$\\gamma_{k} = \\phi_{1}\\gamma_{k-1}$という先ほどの結果の両辺を$\\gamma_{0}$ で割ると、$\\rho$の定義より、\n",
    "\n",
    "$$ \n",
    "\\rho_{k} = \\phi_{1}\\rho_{k-1} \n",
    "$$\n",
    "\n",
    "が導かれる。これを、「ユール・ウォーカー方程式」と呼ぶ。$ \\rho_{0}:= \\frac{\\gamma_{0}}{\\gamma_{0}} = 1 $ を用いて、$\\rho_{k}$を逐次的に求めることができる。\n",
    "\n",
    "$$\n",
    "\\rho_{k} =  \\phi_{1}\\rho_{k-1} = \\phi_{1}^{2}\\rho_{k-2} = \\phi_{1}^{3}\\rho_{k-3}  = \\dots = \\phi_{1}^{k}\\rho_{0} = \\phi_{1}^{k}\n",
    "$$\n",
    "\n",
    "$|\\phi_{1}| < 0$ より、AR(1)過程の自己相関の絶対値は指数的に減衰することがわかる。"
   ]
  },
  {
   "cell_type": "code",
   "execution_count": null,
   "metadata": {},
   "outputs": [],
   "source": []
  }
 ],
 "metadata": {
  "celltoolbar": "Slideshow",
  "kernelspec": {
   "display_name": "Python 3",
   "language": "python",
   "name": "python3"
  },
  "language_info": {
   "codemirror_mode": {
    "name": "ipython",
    "version": 3
   },
   "file_extension": ".py",
   "mimetype": "text/x-python",
   "name": "python",
   "nbconvert_exporter": "python",
   "pygments_lexer": "ipython3",
   "version": "3.6.3"
  }
 },
 "nbformat": 4,
 "nbformat_minor": 2
}
