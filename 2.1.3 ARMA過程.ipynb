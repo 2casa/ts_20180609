{
 "cells": [
  {
   "cell_type": "markdown",
   "metadata": {
    "slideshow": {
     "slide_type": "slide"
    }
   },
   "source": [
    "# 2.1.3 ARMA 過程　～ AutoRegressive - MovingAverage Process～\n",
    "\n",
    "ここまで見てきたAR過程とMA過程を含んだ過程である。\n",
    "\n",
    "【定義】ARMA(p,q)過程とは、\n",
    "\n",
    "$$ y_{t} = c + \\phi_{1} y_{t-1} + \\dots + \\phi_{p} y_{t-p} + \\epsilon_{t} + \\theta_1\\epsilon_{t-1}+ \\dots + \\theta_q\\epsilon_{t-q} $$\n",
    "\n",
    "で定義され、$y_{t}$がARMA(p,q)に従うことは、$y_{t} \\sim ARMA(p,q)$ と表現する。\n",
    "\n",
    "$c$,$\\phi_{t}$,$\\theta_{t}$は定数（パラメータ）である。"
   ]
  },
  {
   "cell_type": "markdown",
   "metadata": {
    "slideshow": {
     "slide_type": "slide"
    }
   },
   "source": [
    "### 定常ARMA(p,q)過程の性質\n",
    "定常ARMA(p,q)過程は以下の性質を持つ\n",
    "\n",
    "1. $\\mu = E[(y_t)] = c/(1 - \\phi_1 - \\phi_2 - \\dots - \\phi_p)$\n",
    "  * 期待値を取った時に、MA(q)の項が全てゼロとなり、$E[AR(p)]$の式に一致するため、AR(p)の期待値となる\n",
    "1. $q+1$ 次以降の自己共分散と自己相関は$y_t$が従うARMA過程のAR部分と同一の係数を持つ以下の$p$次差分方程式（ユール・ウォーカー方程式）に従う\n",
    "  * $\\gamma_k = \\phi_1 \\gamma_k-1 + \\phi_2 \\gamma_{k-2} + \\dots + \\phi_p\\gamma_{k-p}, (k \\geq q +1)$\n",
    "  * $\\rho_k = \\phi_1 \\rho_k-1 + \\phi_2 \\rho_{k-2} + \\dots + \\phi_p\\rho_{k-p}, (k \\geq q +1)$\n",
    "    * MA(q)過程の自己共分散と、自己相関は、q+1次以降ゼロとなり、MA(p)過程の自己共分散と自己相関だけが表面に出てくる。$q$次までは、MA項もAR項も自己共分散、自己相関を持つためその値は「重ね合わせ」状態になるため、一般的に表現することが困難。\n",
    "1. ARMA過程の自己相関は指数的に減衰する\n",
    "  * AR項のユール・ウォーカー方程式によって、定常AR過程であれば指数的に減衰する"
   ]
  }
 ],
 "metadata": {
  "celltoolbar": "Slideshow",
  "kernelspec": {
   "display_name": "Python 3",
   "language": "python",
   "name": "python3"
  },
  "language_info": {
   "codemirror_mode": {
    "name": "ipython",
    "version": 3
   },
   "file_extension": ".py",
   "mimetype": "text/x-python",
   "name": "python",
   "nbconvert_exporter": "python",
   "pygments_lexer": "ipython3",
   "version": "3.6.3"
  }
 },
 "nbformat": 4,
 "nbformat_minor": 2
}
